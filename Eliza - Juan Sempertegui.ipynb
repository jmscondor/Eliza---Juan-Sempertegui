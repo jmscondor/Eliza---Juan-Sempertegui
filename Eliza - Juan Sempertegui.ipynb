{
 "cells": [
  {
   "cell_type": "code",
   "execution_count": 90,
   "id": "a4deb704",
   "metadata": {},
   "outputs": [],
   "source": [
    "#You will be creating an interactive chat-bot type program. Eliza is a therapist program that interacts with the user. Your program will need to evaluate what the user asks and turn the user's input into a question that sounds like the therapist really cares.\n",
    "\n",
    "#Sample beginning sentences:\n",
    "\n",
    " #   Please tell me more about ...\n",
    " #   Many of my patients tell me the same thing.\n",
    " #   It is getting late, maybe we had better quit.\n",
    " #   Why do you say that ... how can you fix that?\n",
    " #   You seem to think that ... Why?\n",
    " #   So, you are concerned that ... expand on that.\n"
   ]
  },
  {
   "cell_type": "code",
   "execution_count": null,
   "id": "4afc8ec8",
   "metadata": {},
   "outputs": [
    {
     "name": "stdout",
     "output_type": "stream",
     "text": [
      "Hi, my name is Juan, what is your name? \n"
     ]
    }
   ],
   "source": [
    "print(\"Hi, my name is Juan, what is your name? \") \n",
    "name = input()\n",
    "print(name,\", it is great to meet you!\")\n",
    "print(\"What would you like to discuss today? \") \n",
    "topic = input()\n",
    "print(\"why is\", topic, \"so important to you?\")\n",
    "important = input()\n",
    "print(important, \"...that is certainly interesting....care to expand on that?\")\n",
    "expand = input()\n",
    "print (\"I'm interested in hearing more about\", expand, \"in our next session.  I look forward to our discussion.\")\n"
   ]
  },
  {
   "cell_type": "code",
   "execution_count": null,
   "id": "8f090645",
   "metadata": {},
   "outputs": [],
   "source": []
  }
 ],
 "metadata": {
  "kernelspec": {
   "display_name": "Python 3 (ipykernel)",
   "language": "python",
   "name": "python3"
  },
  "language_info": {
   "codemirror_mode": {
    "name": "ipython",
    "version": 3
   },
   "file_extension": ".py",
   "mimetype": "text/x-python",
   "name": "python",
   "nbconvert_exporter": "python",
   "pygments_lexer": "ipython3",
   "version": "3.9.12"
  }
 },
 "nbformat": 4,
 "nbformat_minor": 5
}
